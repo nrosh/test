{
  "nbformat": 4,
  "nbformat_minor": 0,
  "metadata": {
    "colab": {
      "name": "stockPrediction.ipynb",
      "provenance": [],
      "collapsed_sections": [],
      "authorship_tag": "ABX9TyP3EzANbjXp+A+XfndhCrEI",
      "include_colab_link": true
    },
    "kernelspec": {
      "name": "python3",
      "display_name": "Python 3"
    }
  },
  "cells": [
    {
      "cell_type": "markdown",
      "metadata": {
        "id": "view-in-github",
        "colab_type": "text"
      },
      "source": [
        "<a href=\"https://colab.research.google.com/github/nrosh/test/blob/master/stockPrediction.ipynb\" target=\"_parent\"><img src=\"https://colab.research.google.com/assets/colab-badge.svg\" alt=\"Open In Colab\"/></a>"
      ]
    },
    {
      "cell_type": "code",
      "metadata": {
        "id": "n3bCGsg5T3Xq"
      },
      "source": [
        "# Description: Long Short Memory (LSTM) to predict the closing stock price of a corporation (Apple Inc.) using the past 60 days of the stock price.\r\n",
        "\r\n"
      ],
      "execution_count": 28,
      "outputs": []
    },
    {
      "cell_type": "code",
      "metadata": {
        "id": "aWci0414WgHZ"
      },
      "source": [
        "# Import the libraries\r\n",
        "import math\r\n",
        "import pandas_datareader as web\r\n",
        "import numpy as np\r\n",
        "import pandas as pd\r\n",
        "from sklearn.preprocessing import MinMaxScaler\r\n",
        "from keras.models import Sequential\r\n",
        "from keras.layers import Dense, LSTM\r\n",
        "import matplotlib.pyplot as plt\r\n",
        "plt.style.use('fivethirtyeight')"
      ],
      "execution_count": 29,
      "outputs": []
    },
    {
      "cell_type": "code",
      "metadata": {
        "colab": {
          "base_uri": "https://localhost:8080/",
          "height": 446
        },
        "id": "iORbCdSsX6gD",
        "outputId": "daf1731b-a180-492d-9985-a6e1c81bc0d3"
      },
      "source": [
        "# Get the stock quote\r\n",
        "df = web.DataReader('AAPL', data_source='yahoo', start='2012-01-01', end='2020-01-11')\r\n",
        "df"
      ],
      "execution_count": 30,
      "outputs": [
        {
          "output_type": "execute_result",
          "data": {
            "text/html": [
              "<div>\n",
              "<style scoped>\n",
              "    .dataframe tbody tr th:only-of-type {\n",
              "        vertical-align: middle;\n",
              "    }\n",
              "\n",
              "    .dataframe tbody tr th {\n",
              "        vertical-align: top;\n",
              "    }\n",
              "\n",
              "    .dataframe thead th {\n",
              "        text-align: right;\n",
              "    }\n",
              "</style>\n",
              "<table border=\"1\" class=\"dataframe\">\n",
              "  <thead>\n",
              "    <tr style=\"text-align: right;\">\n",
              "      <th></th>\n",
              "      <th>High</th>\n",
              "      <th>Low</th>\n",
              "      <th>Open</th>\n",
              "      <th>Close</th>\n",
              "      <th>Volume</th>\n",
              "      <th>Adj Close</th>\n",
              "    </tr>\n",
              "    <tr>\n",
              "      <th>Date</th>\n",
              "      <th></th>\n",
              "      <th></th>\n",
              "      <th></th>\n",
              "      <th></th>\n",
              "      <th></th>\n",
              "      <th></th>\n",
              "    </tr>\n",
              "  </thead>\n",
              "  <tbody>\n",
              "    <tr>\n",
              "      <th>2012-01-03</th>\n",
              "      <td>14.732143</td>\n",
              "      <td>14.607143</td>\n",
              "      <td>14.621429</td>\n",
              "      <td>14.686786</td>\n",
              "      <td>302220800.0</td>\n",
              "      <td>12.669562</td>\n",
              "    </tr>\n",
              "    <tr>\n",
              "      <th>2012-01-04</th>\n",
              "      <td>14.810000</td>\n",
              "      <td>14.617143</td>\n",
              "      <td>14.642857</td>\n",
              "      <td>14.765714</td>\n",
              "      <td>260022000.0</td>\n",
              "      <td>12.737653</td>\n",
              "    </tr>\n",
              "    <tr>\n",
              "      <th>2012-01-05</th>\n",
              "      <td>14.948214</td>\n",
              "      <td>14.738214</td>\n",
              "      <td>14.819643</td>\n",
              "      <td>14.929643</td>\n",
              "      <td>271269600.0</td>\n",
              "      <td>12.879066</td>\n",
              "    </tr>\n",
              "    <tr>\n",
              "      <th>2012-01-06</th>\n",
              "      <td>15.098214</td>\n",
              "      <td>14.972143</td>\n",
              "      <td>14.991786</td>\n",
              "      <td>15.085714</td>\n",
              "      <td>318292800.0</td>\n",
              "      <td>13.013701</td>\n",
              "    </tr>\n",
              "    <tr>\n",
              "      <th>2012-01-09</th>\n",
              "      <td>15.276786</td>\n",
              "      <td>15.048214</td>\n",
              "      <td>15.196429</td>\n",
              "      <td>15.061786</td>\n",
              "      <td>394024400.0</td>\n",
              "      <td>12.993060</td>\n",
              "    </tr>\n",
              "    <tr>\n",
              "      <th>...</th>\n",
              "      <td>...</td>\n",
              "      <td>...</td>\n",
              "      <td>...</td>\n",
              "      <td>...</td>\n",
              "      <td>...</td>\n",
              "      <td>...</td>\n",
              "    </tr>\n",
              "    <tr>\n",
              "      <th>2020-01-06</th>\n",
              "      <td>74.989998</td>\n",
              "      <td>73.187500</td>\n",
              "      <td>73.447502</td>\n",
              "      <td>74.949997</td>\n",
              "      <td>118387200.0</td>\n",
              "      <td>74.308266</td>\n",
              "    </tr>\n",
              "    <tr>\n",
              "      <th>2020-01-07</th>\n",
              "      <td>75.224998</td>\n",
              "      <td>74.370003</td>\n",
              "      <td>74.959999</td>\n",
              "      <td>74.597504</td>\n",
              "      <td>108872000.0</td>\n",
              "      <td>73.958794</td>\n",
              "    </tr>\n",
              "    <tr>\n",
              "      <th>2020-01-08</th>\n",
              "      <td>76.110001</td>\n",
              "      <td>74.290001</td>\n",
              "      <td>74.290001</td>\n",
              "      <td>75.797501</td>\n",
              "      <td>132079200.0</td>\n",
              "      <td>75.148521</td>\n",
              "    </tr>\n",
              "    <tr>\n",
              "      <th>2020-01-09</th>\n",
              "      <td>77.607498</td>\n",
              "      <td>76.550003</td>\n",
              "      <td>76.809998</td>\n",
              "      <td>77.407501</td>\n",
              "      <td>170108400.0</td>\n",
              "      <td>76.744728</td>\n",
              "    </tr>\n",
              "    <tr>\n",
              "      <th>2020-01-10</th>\n",
              "      <td>78.167503</td>\n",
              "      <td>77.062500</td>\n",
              "      <td>77.650002</td>\n",
              "      <td>77.582497</td>\n",
              "      <td>140644800.0</td>\n",
              "      <td>76.918221</td>\n",
              "    </tr>\n",
              "  </tbody>\n",
              "</table>\n",
              "<p>2019 rows × 6 columns</p>\n",
              "</div>"
            ],
            "text/plain": [
              "                 High        Low       Open      Close       Volume  Adj Close\n",
              "Date                                                                          \n",
              "2012-01-03  14.732143  14.607143  14.621429  14.686786  302220800.0  12.669562\n",
              "2012-01-04  14.810000  14.617143  14.642857  14.765714  260022000.0  12.737653\n",
              "2012-01-05  14.948214  14.738214  14.819643  14.929643  271269600.0  12.879066\n",
              "2012-01-06  15.098214  14.972143  14.991786  15.085714  318292800.0  13.013701\n",
              "2012-01-09  15.276786  15.048214  15.196429  15.061786  394024400.0  12.993060\n",
              "...               ...        ...        ...        ...          ...        ...\n",
              "2020-01-06  74.989998  73.187500  73.447502  74.949997  118387200.0  74.308266\n",
              "2020-01-07  75.224998  74.370003  74.959999  74.597504  108872000.0  73.958794\n",
              "2020-01-08  76.110001  74.290001  74.290001  75.797501  132079200.0  75.148521\n",
              "2020-01-09  77.607498  76.550003  76.809998  77.407501  170108400.0  76.744728\n",
              "2020-01-10  78.167503  77.062500  77.650002  77.582497  140644800.0  76.918221\n",
              "\n",
              "[2019 rows x 6 columns]"
            ]
          },
          "metadata": {
            "tags": []
          },
          "execution_count": 30
        }
      ]
    },
    {
      "cell_type": "code",
      "metadata": {
        "colab": {
          "base_uri": "https://localhost:8080/"
        },
        "id": "RNy1gQviZPVn",
        "outputId": "81976622-a66e-4fcf-d64d-784d4f0d2b68"
      },
      "source": [
        "# Get the number of rows and columns in the data set\r\n",
        "df.shape"
      ],
      "execution_count": 31,
      "outputs": [
        {
          "output_type": "execute_result",
          "data": {
            "text/plain": [
              "(2019, 6)"
            ]
          },
          "metadata": {
            "tags": []
          },
          "execution_count": 31
        }
      ]
    },
    {
      "cell_type": "code",
      "metadata": {
        "colab": {
          "base_uri": "https://localhost:8080/",
          "height": 558
        },
        "id": "AfnNX_M1Zcai",
        "outputId": "c2dabfc9-97c7-4ae7-b5bf-f84eba38fe1f"
      },
      "source": [
        "# visualize the closing price history\r\n",
        "plt.figure(figsize=(16,8))\r\n",
        "plt.title('Close Price History')\r\n",
        "plt.plot(df['Close'])\r\n",
        "plt.xlabel('Date', fontsize=18)\r\n",
        "plt.ylabel('Close Price USD ($)', fontsize=18)\r\n",
        "plt.show()"
      ],
      "execution_count": 32,
      "outputs": [
        {
          "output_type": "display_data",
          "data": {
            "image/png": "[encoded data removed]",
            "text/plain": [
              "<Figure size 1152x576 with 1 Axes>"
            ]
          },
          "metadata": {
            "tags": []
          }
        }
      ]
    },
    {
      "cell_type": "code",
      "metadata": {
        "colab": {
          "base_uri": "https://localhost:8080/"
        },
        "id": "jxVLryCtfj5C",
        "outputId": "c1f2d0b2-f4ab-4c5c-a591-f9269214bb46"
      },
      "source": [
        "# Create a new dataframe with only the Close column\r\n",
        "data = df.filter(['Close'])\r\n",
        "# Convert the dataframe to a numpy array\r\n",
        "dataset = data.values\r\n",
        "# Get the number of rows to train the model\r\n",
        "training_data_len = math.ceil(len(dataset) * 0.8)\r\n",
        "training_data_len"
      ],
      "execution_count": 33,
      "outputs": [
        {
          "output_type": "execute_result",
          "data": {
            "text/plain": [
              "1616"
            ]
          },
          "metadata": {
            "tags": []
          },
          "execution_count": 33
        }
      ]
    },
    {
      "cell_type": "code",
      "metadata": {
        "colab": {
          "base_uri": "https://localhost:8080/"
        },
        "id": "LEYwFD91gZZS",
        "outputId": "c8691b1a-ceb7-4ab5-ad2d-e98a715d07f4"
      },
      "source": [
        "# Scale the data\r\n",
        "scaler = MinMaxScaler(feature_range=(0,1))\r\n",
        "scaled_data = scaler.fit_transform(dataset)\r\n",
        "scaled_data"
      ],
      "execution_count": 34,
      "outputs": [
        {
          "output_type": "execute_result",
          "data": {
            "text/plain": [
              "array([[0.01161759],\n",
              "       [0.01285792],\n",
              "       [0.015434  ],\n",
              "       ...,\n",
              "       [0.97194946],\n",
              "       [0.99725001],\n",
              "       [1.        ]])"
            ]
          },
          "metadata": {
            "tags": []
          },
          "execution_count": 34
        }
      ]
    },
    {
      "cell_type": "code",
      "metadata": {
        "colab": {
          "base_uri": "https://localhost:8080/"
        },
        "id": "a3enZK1yhNXU",
        "outputId": "098af774-e12f-419b-835d-9e1c7002106c"
      },
      "source": [
        "# create the training dataset\r\n",
        "# Create the scaled training data set\r\n",
        "train_data = scaled_data[0:training_data_len, :]\r\n",
        "# split the data into x_train and y_train\r\n",
        "x_train = []\r\n",
        "y_train = []\r\n",
        "for i in range(60, len(train_data)):\r\n",
        "    x_train.append(train_data[i-60:i, 0])\r\n",
        "    y_train.append(train_data[i, 0])\r\n",
        "    if i <= 60:\r\n",
        "       print(x_train)\r\n",
        "       print(y_train)\r\n",
        "       print()"
      ],
      "execution_count": 35,
      "outputs": [
        {
          "output_type": "stream",
          "text": [
            "[array([0.01161759, 0.01285792, 0.015434  , 0.01788661, 0.01751058,\n",
            "       0.01835804, 0.01797079, 0.01731975, 0.01643299, 0.01917745,\n",
            "       0.02165251, 0.02088922, 0.016708  , 0.0206984 , 0.01676974,\n",
            "       0.0315022 , 0.0303629 , 0.03185018, 0.03506605, 0.03701354,\n",
            "       0.03685078, 0.03625027, 0.0388095 , 0.0412172 , 0.04394482,\n",
            "       0.04835053, 0.05760532, 0.05774562, 0.06289779, 0.06674785,\n",
            "       0.0601309 , 0.06267889, 0.06262839, 0.06977294, 0.06875708,\n",
            "       0.07063722, 0.07401586, 0.07589602, 0.08131195, 0.08525742,\n",
            "       0.08639674, 0.08679523, 0.08004918, 0.07842157, 0.07866292,\n",
            "       0.0850049 , 0.08678963, 0.09062288, 0.09965877, 0.11171414,\n",
            "       0.10945796, 0.10946356, 0.11817958, 0.12090721, 0.1189653 ,\n",
            "       0.11719181, 0.11534534, 0.12147964, 0.12568893, 0.12745121])]\n",
            "[0.12309600451876945]\n",
            "\n"
          ],
          "name": "stdout"
        }
      ]
    },
    {
      "cell_type": "code",
      "metadata": {
        "id": "g3mqFZHYNUgr"
      },
      "source": [
        "#Convert the x_train and y_train to numpy arrays\r\n",
        "x_train, y_train = np.array(x_train), np.array(y_train)"
      ],
      "execution_count": 36,
      "outputs": []
    },
    {
      "cell_type": "code",
      "metadata": {
        "colab": {
          "base_uri": "https://localhost:8080/"
        },
        "id": "3A4X1H-6O7SP",
        "outputId": "4e77ac94-da38-43df-d238-bbfbcbe710dd"
      },
      "source": [
        "# Reshape the data\r\n",
        "x_train = np.reshape(x_train, (x_train.shape[0], x_train.shape[1], 1))\r\n",
        "x_train.shape"
      ],
      "execution_count": 37,
      "outputs": [
        {
          "output_type": "execute_result",
          "data": {
            "text/plain": [
              "(1556, 60, 1)"
            ]
          },
          "metadata": {
            "tags": []
          },
          "execution_count": 37
        }
      ]
    },
    {
      "cell_type": "code",
      "metadata": {
        "id": "MicfF2BpPaCy"
      },
      "source": [
        "# Build the LSTM model\r\n",
        "model = Sequential()\r\n",
        "model.add(LSTM(50, return_sequences=True, input_shape=(x_train.shape[1], 1)))\r\n",
        "model.add(LSTM(50, return_sequences=False))\r\n",
        "model.add(Dense(25))\r\n",
        "model.add(Dense(1))"
      ],
      "execution_count": 38,
      "outputs": []
    },
    {
      "cell_type": "code",
      "metadata": {
        "id": "fDypeLoXcIGd"
      },
      "source": [
        "# Compile the model\r\n",
        "model.compile(optimizer='adam', loss='mean_squared_error')"
      ],
      "execution_count": 39,
      "outputs": []
    },
    {
      "cell_type": "code",
      "metadata": {
        "colab": {
          "base_uri": "https://localhost:8080/"
        },
        "id": "VafDHKX_cbZG",
        "outputId": "f6b5fe0e-1fa7-4c95-8c4d-a519d6daaa94"
      },
      "source": [
        "# Train the model\r\n",
        "model.fit(x_train, y_train, batch_size=1, epochs=1)"
      ],
      "execution_count": 40,
      "outputs": [
        {
          "output_type": "stream",
          "text": [
            "1556/1556 [==============================] - 42s 25ms/step - loss: 0.0020\n"
          ],
          "name": "stdout"
        },
        {
          "output_type": "execute_result",
          "data": {
            "text/plain": [
              "<tensorflow.python.keras.callbacks.History at 0x7efcc819a208>"
            ]
          },
          "metadata": {
            "tags": []
          },
          "execution_count": 40
        }
      ]
    },
    {
      "cell_type": "code",
      "metadata": {
        "id": "NPEJzQeld46V"
      },
      "source": [
        " # Create the testing data set\r\n",
        " # Create a new array containing scaled values from index 1543 to 2003  \r\n",
        " test_data = scaled_data[training_data_len - 60: , :]\r\n",
        " # Create the data sets x_test and y_test\r\n",
        " x_test = []\r\n",
        " y_test = dataset[training_data_len: , :]\r\n",
        " for i in range(60, len(test_data)):\r\n",
        "    x_test.append(test_data[i-60:i, 0])"
      ],
      "execution_count": 41,
      "outputs": []
    },
    {
      "cell_type": "code",
      "metadata": {
        "id": "wdcP-ml-fe3V"
      },
      "source": [
        "# Convert the data to a numpy array\r\n",
        "x_test = np.array(x_test)"
      ],
      "execution_count": 42,
      "outputs": []
    },
    {
      "cell_type": "code",
      "metadata": {
        "id": "FcgA5Husf5UB"
      },
      "source": [
        "# Reshape the data\r\n",
        "x_test = np.reshape(x_test,(x_test.shape[0], x_test.shape[1], 1)) # number of samples, number of time steps, number of features (Closing Price)"
      ],
      "execution_count": 43,
      "outputs": []
    },
    {
      "cell_type": "code",
      "metadata": {
        "id": "9bdDO0BPg8rh"
      },
      "source": [
        "# Get the model's predicted price values\r\n",
        "predictions = model.predict(x_test)\r\n",
        "predictions = scaler.inverse_transform(predictions) # we want predictions to contain the same values as our y_test dataset"
      ],
      "execution_count": 44,
      "outputs": []
    },
    {
      "cell_type": "code",
      "metadata": {
        "colab": {
          "base_uri": "https://localhost:8080/"
        },
        "id": "8gnMuG8ciAMk",
        "outputId": "be2a510b-3c0b-4d86-e7e0-5c15a58e3acf"
      },
      "source": [
        "# Get the root mean squared Error (RMSE)\r\n",
        "rmse = np.sqrt(np.mean( predictions - y_test)**2)\r\n",
        "rmse"
      ],
      "execution_count": 45,
      "outputs": [
        {
          "output_type": "execute_result",
          "data": {
            "text/plain": [
              "0.043395891970499575"
            ]
          },
          "metadata": {
            "tags": []
          },
          "execution_count": 45
        }
      ]
    },
    {
      "cell_type": "code",
      "metadata": {
        "colab": {
          "base_uri": "https://localhost:8080/",
          "height": 662
        },
        "id": "yZWws8Mgiqbd",
        "outputId": "dcb14f26-9263-4081-fedc-07f7f25b915e"
      },
      "source": [
        "# Plot the data\r\n",
        "train = data[:training_data_len]\r\n",
        "valid = data[training_data_len:]\r\n",
        "valid['Predictions'] = predictions\r\n",
        "# Visualize the data\r\n",
        "plt.figure(figsize=(16,8))\r\n",
        "plt.title('Model')\r\n",
        "plt.xlabel('Date', fontsize=18)\r\n",
        "plt.ylabel('Close Price USD ($)', fontsize=18)\r\n",
        "plt.plot(train['Close'])\r\n",
        "plt.plot(valid[['Close', 'Predictions']])\r\n",
        "plt.legend(['Train','Val','Predictions'], loc = 'lower right')\r\n",
        "plt.show()"
      ],
      "execution_count": 48,
      "outputs": [
        {
          "output_type": "stream",
          "text": [
            "/usr/local/lib/python3.6/dist-packages/ipykernel_launcher.py:4: SettingWithCopyWarning: \n",
            "A value is trying to be set on a copy of a slice from a DataFrame.\n",
            "Try using .loc[row_indexer,col_indexer] = value instead\n",
            "\n",
            "See the caveats in the documentation: https://pandas.pydata.org/pandas-docs/stable/user_guide/indexing.html#returning-a-view-versus-a-copy\n",
            "  after removing the cwd from sys.path.\n"
          ],
          "name": "stderr"
        },
        {
          "output_type": "display_data",
          "data": {
            "image/png": "[encoded data removed]",
            "text/plain": [
              "<Figure size 1152x576 with 1 Axes>"
            ]
          },
          "metadata": {
            "tags": []
          }
        }
      ]
    },
    {
      "cell_type": "code",
      "metadata": {
        "colab": {
          "base_uri": "https://localhost:8080/",
          "height": 446
        },
        "id": "Zdx4NX7r3kiN",
        "outputId": "e6b24c53-5bf3-4f0a-aff4-28a6c947b1a7"
      },
      "source": [
        "# Show the value and predicted prices \r\n",
        "valid"
      ],
      "execution_count": 49,
      "outputs": [
        {
          "output_type": "execute_result",
          "data": {
            "text/html": [
              "<div>\n",
              "<style scoped>\n",
              "    .dataframe tbody tr th:only-of-type {\n",
              "        vertical-align: middle;\n",
              "    }\n",
              "\n",
              "    .dataframe tbody tr th {\n",
              "        vertical-align: top;\n",
              "    }\n",
              "\n",
              "    .dataframe thead th {\n",
              "        text-align: right;\n",
              "    }\n",
              "</style>\n",
              "<table border=\"1\" class=\"dataframe\">\n",
              "  <thead>\n",
              "    <tr style=\"text-align: right;\">\n",
              "      <th></th>\n",
              "      <th>Close</th>\n",
              "      <th>Predictions</th>\n",
              "    </tr>\n",
              "    <tr>\n",
              "      <th>Date</th>\n",
              "      <th></th>\n",
              "      <th></th>\n",
              "    </tr>\n",
              "  </thead>\n",
              "  <tbody>\n",
              "    <tr>\n",
              "      <th>2018-06-06</th>\n",
              "      <td>48.494999</td>\n",
              "      <td>47.653610</td>\n",
              "    </tr>\n",
              "    <tr>\n",
              "      <th>2018-06-07</th>\n",
              "      <td>48.365002</td>\n",
              "      <td>47.872536</td>\n",
              "    </tr>\n",
              "    <tr>\n",
              "      <th>2018-06-08</th>\n",
              "      <td>47.924999</td>\n",
              "      <td>48.080276</td>\n",
              "    </tr>\n",
              "    <tr>\n",
              "      <th>2018-06-11</th>\n",
              "      <td>47.807499</td>\n",
              "      <td>48.220951</td>\n",
              "    </tr>\n",
              "    <tr>\n",
              "      <th>2018-06-12</th>\n",
              "      <td>48.070000</td>\n",
              "      <td>48.299774</td>\n",
              "    </tr>\n",
              "    <tr>\n",
              "      <th>...</th>\n",
              "      <td>...</td>\n",
              "      <td>...</td>\n",
              "    </tr>\n",
              "    <tr>\n",
              "      <th>2020-01-06</th>\n",
              "      <td>74.949997</td>\n",
              "      <td>72.056572</td>\n",
              "    </tr>\n",
              "    <tr>\n",
              "      <th>2020-01-07</th>\n",
              "      <td>74.597504</td>\n",
              "      <td>72.498146</td>\n",
              "    </tr>\n",
              "    <tr>\n",
              "      <th>2020-01-08</th>\n",
              "      <td>75.797501</td>\n",
              "      <td>72.844414</td>\n",
              "    </tr>\n",
              "    <tr>\n",
              "      <th>2020-01-09</th>\n",
              "      <td>77.407501</td>\n",
              "      <td>73.217476</td>\n",
              "    </tr>\n",
              "    <tr>\n",
              "      <th>2020-01-10</th>\n",
              "      <td>77.582497</td>\n",
              "      <td>73.712013</td>\n",
              "    </tr>\n",
              "  </tbody>\n",
              "</table>\n",
              "<p>403 rows × 2 columns</p>\n",
              "</div>"
            ],
            "text/plain": [
              "                Close  Predictions\n",
              "Date                              \n",
              "2018-06-06  48.494999    47.653610\n",
              "2018-06-07  48.365002    47.872536\n",
              "2018-06-08  47.924999    48.080276\n",
              "2018-06-11  47.807499    48.220951\n",
              "2018-06-12  48.070000    48.299774\n",
              "...               ...          ...\n",
              "2020-01-06  74.949997    72.056572\n",
              "2020-01-07  74.597504    72.498146\n",
              "2020-01-08  75.797501    72.844414\n",
              "2020-01-09  77.407501    73.217476\n",
              "2020-01-10  77.582497    73.712013\n",
              "\n",
              "[403 rows x 2 columns]"
            ]
          },
          "metadata": {
            "tags": []
          },
          "execution_count": 49
        }
      ]
    },
    {
      "cell_type": "code",
      "metadata": {
        "colab": {
          "base_uri": "https://localhost:8080/"
        },
        "id": "IvJrwtO233uW",
        "outputId": "0a61fd40-8ab0-41fb-b84b-e612071ced0a"
      },
      "source": [
        "# Get the quote \r\n",
        "apple_quote = web.DataReader('AAPL', data_source='yahoo', start='2012-01-01', end='2019-12-17')\r\n",
        "# Create a new data frame\r\n",
        "new_df = apple_quote.filter(['Close'])\r\n",
        "# Get the last 60 day closing price value and convert the data frame to an array\r\n",
        "last_60_days = new_df[-60:].values\r\n",
        "# Scale the data to be values between 0 and 1\r\n",
        "last_60_days_scaled = scaler.transform(last_60_days)\r\n",
        "# Create an empty list\r\n",
        "X_test = []\r\n",
        "# Append the past 60 days \r\n",
        "X_test.append(last_60_days_scaled)\r\n",
        "# Convert the X_test data set to a numpy array\r\n",
        "X_test = np.array(X_test)\r\n",
        "# Reshape the data \r\n",
        "X_test = np.reshape(X_test, (X_test.shape[0], X_test.shape[1], 1))        \r\n",
        "# Get the predicted scaled price\r\n",
        "pred_price = model.predict(X_test)   \r\n",
        "# Undo the scaling\r\n",
        "pred_price = scaler.inverse_transform(pred_price)  \r\n",
        "print(pred_price)"
      ],
      "execution_count": 51,
      "outputs": [
        {
          "output_type": "stream",
          "text": [
            "[[67.80457]]\n"
          ],
          "name": "stdout"
        }
      ]
    },
    {
      "cell_type": "code",
      "metadata": {
        "colab": {
          "base_uri": "https://localhost:8080/"
        },
        "id": "_YPzkZXq8DlI",
        "outputId": "adb61f81-3203-4d98-ee45-817de397fa34"
      },
      "source": [
        "# Get the quote \r\n",
        "apple_quote2 = web.DataReader('AAPL', data_source='yahoo', start='2019-12-18', end='2019-12-18')\r\n",
        "print(apple_quote2['Close'])"
      ],
      "execution_count": 52,
      "outputs": [
        {
          "output_type": "stream",
          "text": [
            "Date\n",
            "2019-12-18    69.934998\n",
            "Name: Close, dtype: float64\n"
          ],
          "name": "stdout"
        }
      ]
    }
  ]
}